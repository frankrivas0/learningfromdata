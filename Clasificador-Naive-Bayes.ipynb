{
 "cells": [
  {
   "cell_type": "markdown",
   "metadata": {},
   "source": [
    "### Clasificador Naive Bayes\n",
    "Por Francisco Rivas\n",
    "rivasj_25@hotmail.com "
   ]
  },
  {
   "cell_type": "markdown",
   "metadata": {},
   "source": [
    "El método de Naive Bayes es un algoritmo de clasificación que determina la probabilidad de que una observación $X = [x_1, ... , x_n]^T$ pertenezca a la clase $Y$, es decir $P(Y|X)$, aplicando el teorema de Bayes:\n",
    "\n",
    "$$P(Y|X) = \\frac{P(X|Y)P(Y)}{P(X)}$$\n"
   ]
  },
  {
   "cell_type": "markdown",
   "metadata": {},
   "source": [
    "donde:\n",
    "\n",
    "$Y \\in \\{1, ..., k\\}$ ($k$ clases)\n",
    "\n",
    "$P(X)=P(X|Y=1)P(Y=1)\\ + ... +\\ P(X|Y=k)P(Y=k)$ (regla de la probabilidad total)"
   ]
  },
  {
   "cell_type": "markdown",
   "metadata": {},
   "source": [
    "Dada una nueva observación $X$, se calcula $P(Y=j|X)$ para $j=1,2,...,k$, y se asigna la nueva observación a la clase $Y$ que posee la mayor probabilidad."
   ]
  },
  {
   "cell_type": "markdown",
   "metadata": {},
   "source": [
    "Como el objetivo es comparar las probabilidades $P(Y=j|X)$, no es necesario calcular $P(X)$ porque es igual para todas las probabilidades $P(Y=j|X)$.\n"
   ]
  },
  {
   "cell_type": "markdown",
   "metadata": {},
   "source": [
    "$$P(Y|X) = P(X|Y)P(Y)$$"
   ]
  },
  {
   "cell_type": "markdown",
   "metadata": {},
   "source": [
    "Para determinar $P(X|Y)$, el método de Naive Bayes asume que la probabilidad condicional de los $x_i$ dado $Y$, es decir $P(x_i|Y)$, son condicionalmente independientes."
   ]
  },
  {
   "cell_type": "markdown",
   "metadata": {},
   "source": [
    "Bajo este supuesto se puede determinar $P(X|Y)$ como:\n",
    "\n",
    "$$\\prod_{i=1}^{n} P(x_i|Y)$$"
   ]
  },
  {
   "cell_type": "markdown",
   "metadata": {},
   "source": [
    "Este método es relativamente sencillo y permite escoger una distribución para $P(x_i|Y)$ de acuerdo al origen de los datos."
   ]
  },
  {
   "cell_type": "markdown",
   "metadata": {},
   "source": [
    "Por ejemplo, si los parámetros $x_i$ toman valores discretos, se podría usar una distribución multinomial o Bernoulli si son valores binarios. Si los parámetros toman valores contínuos se podría modelar $P(X|Y)$ con una distribución Gaussiana Multivariada."
   ]
  },
  {
   "cell_type": "markdown",
   "metadata": {},
   "source": [
    "En el siguiente ejemplo se utilizará una distribución Gaussiana Multivariada en un algoritmo para clasificar las imágenes de dígitos del 0 al 9 escritos a mano. En este caso nuestro vector $X$ serán los valores de los colores, en 8 bits, de las imágenes.\n",
    "\n",
    "A pesar de que los parámetros $x_i$ toman valores discretos, asumir una distribución Gaussiana Multivariada simplifica el problema y entrega una buena aproximación.\n",
    "\n",
    "En un ejemplo futuro se resolverá el mismo problema aplicando una distribución multinomial y se compararán los resultados"
   ]
  },
  {
   "cell_type": "markdown",
   "metadata": {},
   "source": [
    "### Dataset\n",
    "\n",
    "Se utilizará la data MNIST que se puede descargar de\n",
    "\n",
    "https://www.kaggle.com/c/digit-recognizer\n",
    "\n",
    "El archivo zip tiene dos archivos csv: train.csv y test.csv\n",
    "\n",
    "En este caso sólo se utilizará el archivo train.csv y se tomará el 80% de la data para entrenar el algoritmo y el 20% restante para validar."
   ]
  },
  {
   "cell_type": "markdown",
   "metadata": {},
   "source": [
    "### Ahora sí, manos a la data ... \n",
    "\n",
    "Nota: Este ejemplo fue tomado de \n",
    "\n",
    "https://towardsdatascience.com/naive-bayes-explained-108c095241eb?source=bookmarks---------0------------------\n"
   ]
  },
  {
   "cell_type": "markdown",
   "metadata": {},
   "source": [
    "Primero importamos las librerías que vamos a utilizar"
   ]
  },
  {
   "cell_type": "code",
   "execution_count": 3,
   "metadata": {},
   "outputs": [],
   "source": [
    "import numpy as np\n",
    "import pandas as pd\n",
    "import matplotlib.pyplot as plt\n",
    "import cv2 #openCV para hacer un preprocesamiento de las imágenes"
   ]
  },
  {
   "cell_type": "markdown",
   "metadata": {},
   "source": [
    "Cargamos la data usando pd.read_csv() e imprimimos las primeras filas con .head()"
   ]
  },
  {
   "cell_type": "code",
   "execution_count": 4,
   "metadata": {},
   "outputs": [
    {
     "data": {
      "text/html": [
       "<div>\n",
       "<style scoped>\n",
       "    .dataframe tbody tr th:only-of-type {\n",
       "        vertical-align: middle;\n",
       "    }\n",
       "\n",
       "    .dataframe tbody tr th {\n",
       "        vertical-align: top;\n",
       "    }\n",
       "\n",
       "    .dataframe thead th {\n",
       "        text-align: right;\n",
       "    }\n",
       "</style>\n",
       "<table border=\"1\" class=\"dataframe\">\n",
       "  <thead>\n",
       "    <tr style=\"text-align: right;\">\n",
       "      <th></th>\n",
       "      <th>label</th>\n",
       "      <th>pixel0</th>\n",
       "      <th>pixel1</th>\n",
       "      <th>pixel2</th>\n",
       "      <th>pixel3</th>\n",
       "      <th>pixel4</th>\n",
       "      <th>pixel5</th>\n",
       "      <th>pixel6</th>\n",
       "      <th>pixel7</th>\n",
       "      <th>pixel8</th>\n",
       "      <th>...</th>\n",
       "      <th>pixel774</th>\n",
       "      <th>pixel775</th>\n",
       "      <th>pixel776</th>\n",
       "      <th>pixel777</th>\n",
       "      <th>pixel778</th>\n",
       "      <th>pixel779</th>\n",
       "      <th>pixel780</th>\n",
       "      <th>pixel781</th>\n",
       "      <th>pixel782</th>\n",
       "      <th>pixel783</th>\n",
       "    </tr>\n",
       "  </thead>\n",
       "  <tbody>\n",
       "    <tr>\n",
       "      <th>0</th>\n",
       "      <td>1</td>\n",
       "      <td>0</td>\n",
       "      <td>0</td>\n",
       "      <td>0</td>\n",
       "      <td>0</td>\n",
       "      <td>0</td>\n",
       "      <td>0</td>\n",
       "      <td>0</td>\n",
       "      <td>0</td>\n",
       "      <td>0</td>\n",
       "      <td>...</td>\n",
       "      <td>0</td>\n",
       "      <td>0</td>\n",
       "      <td>0</td>\n",
       "      <td>0</td>\n",
       "      <td>0</td>\n",
       "      <td>0</td>\n",
       "      <td>0</td>\n",
       "      <td>0</td>\n",
       "      <td>0</td>\n",
       "      <td>0</td>\n",
       "    </tr>\n",
       "    <tr>\n",
       "      <th>1</th>\n",
       "      <td>0</td>\n",
       "      <td>0</td>\n",
       "      <td>0</td>\n",
       "      <td>0</td>\n",
       "      <td>0</td>\n",
       "      <td>0</td>\n",
       "      <td>0</td>\n",
       "      <td>0</td>\n",
       "      <td>0</td>\n",
       "      <td>0</td>\n",
       "      <td>...</td>\n",
       "      <td>0</td>\n",
       "      <td>0</td>\n",
       "      <td>0</td>\n",
       "      <td>0</td>\n",
       "      <td>0</td>\n",
       "      <td>0</td>\n",
       "      <td>0</td>\n",
       "      <td>0</td>\n",
       "      <td>0</td>\n",
       "      <td>0</td>\n",
       "    </tr>\n",
       "    <tr>\n",
       "      <th>2</th>\n",
       "      <td>1</td>\n",
       "      <td>0</td>\n",
       "      <td>0</td>\n",
       "      <td>0</td>\n",
       "      <td>0</td>\n",
       "      <td>0</td>\n",
       "      <td>0</td>\n",
       "      <td>0</td>\n",
       "      <td>0</td>\n",
       "      <td>0</td>\n",
       "      <td>...</td>\n",
       "      <td>0</td>\n",
       "      <td>0</td>\n",
       "      <td>0</td>\n",
       "      <td>0</td>\n",
       "      <td>0</td>\n",
       "      <td>0</td>\n",
       "      <td>0</td>\n",
       "      <td>0</td>\n",
       "      <td>0</td>\n",
       "      <td>0</td>\n",
       "    </tr>\n",
       "    <tr>\n",
       "      <th>3</th>\n",
       "      <td>4</td>\n",
       "      <td>0</td>\n",
       "      <td>0</td>\n",
       "      <td>0</td>\n",
       "      <td>0</td>\n",
       "      <td>0</td>\n",
       "      <td>0</td>\n",
       "      <td>0</td>\n",
       "      <td>0</td>\n",
       "      <td>0</td>\n",
       "      <td>...</td>\n",
       "      <td>0</td>\n",
       "      <td>0</td>\n",
       "      <td>0</td>\n",
       "      <td>0</td>\n",
       "      <td>0</td>\n",
       "      <td>0</td>\n",
       "      <td>0</td>\n",
       "      <td>0</td>\n",
       "      <td>0</td>\n",
       "      <td>0</td>\n",
       "    </tr>\n",
       "    <tr>\n",
       "      <th>4</th>\n",
       "      <td>0</td>\n",
       "      <td>0</td>\n",
       "      <td>0</td>\n",
       "      <td>0</td>\n",
       "      <td>0</td>\n",
       "      <td>0</td>\n",
       "      <td>0</td>\n",
       "      <td>0</td>\n",
       "      <td>0</td>\n",
       "      <td>0</td>\n",
       "      <td>...</td>\n",
       "      <td>0</td>\n",
       "      <td>0</td>\n",
       "      <td>0</td>\n",
       "      <td>0</td>\n",
       "      <td>0</td>\n",
       "      <td>0</td>\n",
       "      <td>0</td>\n",
       "      <td>0</td>\n",
       "      <td>0</td>\n",
       "      <td>0</td>\n",
       "    </tr>\n",
       "  </tbody>\n",
       "</table>\n",
       "<p>5 rows × 785 columns</p>\n",
       "</div>"
      ],
      "text/plain": [
       "   label  pixel0  pixel1  pixel2  pixel3  pixel4  pixel5  pixel6  pixel7  \\\n",
       "0      1       0       0       0       0       0       0       0       0   \n",
       "1      0       0       0       0       0       0       0       0       0   \n",
       "2      1       0       0       0       0       0       0       0       0   \n",
       "3      4       0       0       0       0       0       0       0       0   \n",
       "4      0       0       0       0       0       0       0       0       0   \n",
       "\n",
       "   pixel8  ...  pixel774  pixel775  pixel776  pixel777  pixel778  pixel779  \\\n",
       "0       0  ...         0         0         0         0         0         0   \n",
       "1       0  ...         0         0         0         0         0         0   \n",
       "2       0  ...         0         0         0         0         0         0   \n",
       "3       0  ...         0         0         0         0         0         0   \n",
       "4       0  ...         0         0         0         0         0         0   \n",
       "\n",
       "   pixel780  pixel781  pixel782  pixel783  \n",
       "0         0         0         0         0  \n",
       "1         0         0         0         0  \n",
       "2         0         0         0         0  \n",
       "3         0         0         0         0  \n",
       "4         0         0         0         0  \n",
       "\n",
       "[5 rows x 785 columns]"
      ]
     },
     "execution_count": 4,
     "metadata": {},
     "output_type": "execute_result"
    }
   ],
   "source": [
    "#Esta parte depende de donde tenga el archivo train.csv\n",
    "#En mi caso se encuentra en mi directorio actual\n",
    "\n",
    "df = pd.read_csv('train.csv')\n",
    "df.head()"
   ]
  },
  {
   "cell_type": "markdown",
   "metadata": {},
   "source": [
    "Como se puede observar, la columna label contiene el dígito representado por los 28x28=784 pixeles cuyos valores se encuentran en las columnas pixel0,..., pixel783.\n",
    "\n",
    "El siguiente paso es dividir la data en dos partes, un 80% para entrenar y el 20% restante para validar. Este paso es pura decisión personal porque también podría usar toda la data en el archivo train.csv para entrenar y validar con la data en test.csv\n",
    "\n",
    "Nota: las filas se encuentran de forma aleatoria por lo que no es necesario reordenar. "
   ]
  },
  {
   "cell_type": "code",
   "execution_count": 5,
   "metadata": {},
   "outputs": [],
   "source": [
    "n_filas = df.shape[0]\n",
    "train = int(n_filas*0.8)\n",
    "\n",
    "pixels_raw_train = np.array(df.loc[:train-1].drop(columns='label').values, dtype='uint8')\n",
    "labels_train = np.array(df.loc[:train-1]['label'])\n",
    "\n",
    "pixels_raw_test = np.array(df.loc[train:].drop(columns='label').values, dtype='uint8')\n",
    "labels_test = np.array(df.loc[train:]['label'])"
   ]
  },
  {
   "cell_type": "markdown",
   "metadata": {},
   "source": [
    "Es importante asignar el tipo 'uint8' a los arreglos que contienen los pixeles por el motivo que se realizará un preprocesamiento con openCV, y este método recibe objetos de ese tipo."
   ]
  },
  {
   "cell_type": "code",
   "execution_count": 6,
   "metadata": {},
   "outputs": [
    {
     "name": "stdout",
     "output_type": "stream",
     "text": [
      "(33600, 784)\n",
      "(8400, 784)\n"
     ]
    }
   ],
   "source": [
    "print(pixels_raw_train.shape)\n",
    "print(pixels_raw_test.shape)"
   ]
  },
  {
   "cell_type": "markdown",
   "metadata": {},
   "source": [
    "pixels_raw_train contiene 33600 observaciones $X \\in {\\rm I\\!R}^{784}$\n",
    "\n",
    "pixels_raw_test contiene 8400 observaciones $X \\in {\\rm I\\!R}^{784}$"
   ]
  },
  {
   "cell_type": "markdown",
   "metadata": {},
   "source": [
    "Ahora se hará una transformación a las imágenes con openCV, mediante un método llamado Histogram of Oriented Gradients (HOG). Esto mejora la precisión del algoritmo.\n",
    "\n",
    "Al realizar la transformacion, $X \\in {\\rm I\\!R}^{108}$, es decir, se reduce la cantidad de features $x_i$\n",
    "\n",
    "Aquí la documentación https://docs.opencv.org/3.4/d5/d33/structcv_1_1HOGDescriptor.html"
   ]
  },
  {
   "cell_type": "code",
   "execution_count": 7,
   "metadata": {},
   "outputs": [],
   "source": [
    "pixels_train = np.zeros((pixels_raw_train.shape[0], 108))\n",
    "pixels_test = np.zeros((pixels_raw_test.shape[0], 108))\n",
    "\n",
    "hog = cv2.HOGDescriptor((28,28), (14,14), (7,7), (14,14), 12)\n",
    "\n",
    "for n in range(pixels_raw_train.shape[0]):\n",
    "    pixels_train[n] = hog.compute(pixels_raw_train[n].reshape((28,28))).reshape(1,-1)\n",
    "    \n",
    "for n in range(pixels_raw_test.shape[0]):\n",
    "    pixels_test[n] = hog.compute(pixels_raw_test[n].reshape(28,28)).reshape(1,-1)\n",
    "    "
   ]
  },
  {
   "cell_type": "markdown",
   "metadata": {},
   "source": [
    "El siguiente paso es determinar la distribución de $Y$, $P(Y)$\n",
    "\n",
    "Para ello debemos contar los valores únicos en labels_train (en este caso son los dígitos del 0 al 9), y calculamos la distribución mediante la ecuación:\n",
    "\n",
    "$$P(Y=k) = \\frac{\\sum_{j=1}^{m} 1\\{Y_j = k\\}}{m}$$"
   ]
  },
  {
   "cell_type": "markdown",
   "metadata": {},
   "source": [
    "La ecuación anterior es simplemente la fracción de cada clase en la data de entrenamiento.\n",
    "\n",
    "Nos ayudaremos de la función np.unique que devuelve los valores únicos y la cuenta de cada valor cuando el argumento return_counts es True"
   ]
  },
  {
   "cell_type": "code",
   "execution_count": 8,
   "metadata": {},
   "outputs": [],
   "source": [
    "unicos, cuenta = np.unique(labels_train, return_counts=True)\n",
    "py = cuenta/len(labels_train)"
   ]
  },
  {
   "cell_type": "code",
   "execution_count": 9,
   "metadata": {},
   "outputs": [
    {
     "data": {
      "text/plain": [
       "array([0.09761905, 0.11113095, 0.10047619, 0.10324405, 0.09705357,\n",
       "       0.09071429, 0.09839286, 0.10467262, 0.09705357, 0.09964286])"
      ]
     },
     "execution_count": 9,
     "metadata": {},
     "output_type": "execute_result"
    }
   ],
   "source": [
    "py"
   ]
  },
  {
   "cell_type": "markdown",
   "metadata": {},
   "source": [
    "Vamos a determinar $P(X|Y)$ usando una distribución Gaussiana Multivariada:\n",
    "\n",
    "$$P(X|Y=k) = \\frac{1}{{(2\\pi)^{n/2}}{\\mid {\\Sigma} \\mid}^{1/2}} exp(\\frac{1}{2} (X-\\mu)^T {\\Sigma }^{-1}(X-\\mu))$$"
   ]
  },
  {
   "cell_type": "markdown",
   "metadata": {},
   "source": [
    "Donde\n",
    "- $\\mu$ es un vector $n-dimensional$, y corresponde a la media de la clase $k$\n",
    "- $\\Sigma$ es la matriz de covarianza $nxn$, correspondiente a la clase $k$"
   ]
  },
  {
   "cell_type": "markdown",
   "metadata": {},
   "source": [
    "Reemplazando la ecuacion anterior en la ecuacion en el teorema de bayes (sin el termino $P(X)$) tenemos:\n",
    "\n",
    "$$P(Y|X) = P(Y)[\\frac{1}{{(2\\pi)^{n/2}}{\\mid {\\Sigma} \\mid}^{1/2}} exp(\\frac{1}{2} (X-\\mu)^T { \\Sigma }^{-1}(X-\\mu))]$$"
   ]
  },
  {
   "cell_type": "markdown",
   "metadata": {},
   "source": [
    "La clase que tiene la probabilidad maxima calculada como $P(Y|X)$ es la misma si fuera calculada como $ln (P(Y|X))$. Nos valdremos de esto para simplificar el problema.\n",
    "\n",
    "$$ln P(Y|X) = ln P(Y) - \\frac{n}{2}ln(2\\pi) - \\frac{1}{2} ln \\mid \\Sigma \\mid - \\frac{1}{2} (X-\\mu)^T {\\Sigma }^{-1}(X-\\mu) $$"
   ]
  },
  {
   "cell_type": "markdown",
   "metadata": {},
   "source": [
    "El termino $\\frac{n}{2}ln(2\\pi)$ es un valor constante para cada clase, por lo que lo podemos quitar.\n",
    "$$ln P(Y|X) = ln P(Y) - \\frac{1}{2} ln \\mid \\Sigma \\mid - \\frac{1}{2} (X-\\mu)^T {\\Sigma }^{-1}(X-\\mu) $$"
   ]
  },
  {
   "cell_type": "markdown",
   "metadata": {},
   "source": [
    "### Una simplificacion mas..."
   ]
  },
  {
   "cell_type": "markdown",
   "metadata": {},
   "source": [
    "En este punto ya tenemos lo suficiente para entrenar el algoritmo, es decir, determinar los parametros $\\mu$ y $\\Sigma$ para cada clase y empezar a hacer predicciones.\n",
    "\n",
    "Para simplificar la matriz de covarianzas, vamos a asumir que los $x_i \\in X$ son independientes entre si. Ojo, el metodo de Naive Bayes no asume esto, pero en este problema especifico, nos proporciona una buena aproximacion."
   ]
  },
  {
   "cell_type": "markdown",
   "metadata": {},
   "source": [
    "Dado que la $covarianza$ de variables independientes es cero, la matriz de varianzas y covarianzas se transforma en:\n",
    "\n",
    "$$\\Sigma = \\begin{bmatrix}\n",
    "\\sigma_1^2 & 0 & ... \\\\\n",
    "0 & \\sigma_2^2 & ... \\\\\n",
    "0 & .... & \\sigma_n^2\n",
    "\\end{bmatrix}$$"
   ]
  },
  {
   "cell_type": "markdown",
   "metadata": {},
   "source": [
    "El determinante e inversa de $\\Sigma$ son\n",
    "\n",
    "$$ \\mid \\Sigma \\mid = \\prod_{i = 1}^{n} \\sigma_{i}^{2}$$\n",
    "\n",
    "$$ \n",
    "\\Sigma^{-1} = \n",
    "\\begin{bmatrix}\n",
    "\\frac{1}{\\sigma_1^2} & 0 & ... \\\\\n",
    "0 & \\frac{1}{\\sigma_2^2} & ... \\\\\n",
    "0 & .... & \\frac{1}{\\sigma_n^2}\n",
    "\\end{bmatrix}\n",
    "$$"
   ]
  },
  {
   "cell_type": "markdown",
   "metadata": {},
   "source": [
    "Finalmente tenemos:\n",
    "$$ln\\ P(Y|X) = ln\\ P(Y) - \\sum_{i = 1}^{n} ln\\ \\sigma_{i} - \\frac{1}{2} \\sum_{i=1}^{n}\\ \\left(\\frac{x_i-\\mu_i}{\\sigma_i}\\right)^2 $$"
   ]
  },
  {
   "cell_type": "markdown",
   "metadata": {},
   "source": [
    "### Determinar los parametros $\\mu$ y $\\sigma$"
   ]
  },
  {
   "cell_type": "code",
   "execution_count": 10,
   "metadata": {},
   "outputs": [],
   "source": [
    "def parameters(pixels_train, labels_train):\n",
    "    # pixels_train es un vector mxn, es decir m observaciones (training points) de longitud n\n",
    "    #labels_train es un vector n-dimensional que contiene la clase que representa cada observacion\n",
    "    \n",
    "    # means es un vector kxn, es decir, los k vectores de media de longitud n\n",
    "    # stdvs es un vector kxn, es decir, los k vectores de desviaciones estandar de longitud n\n",
    "    classes = np.unique(labels_train) # k clases [0,1,...9]\n",
    "    means = np.zeros((len(classes), pixels_train.shape[1]), dtype=np.float64)\n",
    "    stdvs = np.zeros((len(classes), pixels_train.shape[1]), dtype=np.float64)\n",
    "    \n",
    "    for i, clas in enumerate(classes):\n",
    "        indexes = np.where(labels_train == clas)\n",
    "        means[i] = np.mean(pixels_train[indexes], axis=0)\n",
    "        stdvs[i] = np.std(pixels_train[indexes], axis=0)\n",
    "    return means, stdvs"
   ]
  },
  {
   "cell_type": "code",
   "execution_count": 11,
   "metadata": {},
   "outputs": [],
   "source": [
    "# funcion que devuelve los terminos que contienen las sumatorias de la ecuacion ln P(Y|X) \n",
    "def log_gaussian(x, mean, std):\n",
    "    return -(np.sum(np.log(std)) + 0.5 * np.sum(((x - mean) / (std)) ** 2))"
   ]
  },
  {
   "cell_type": "code",
   "execution_count": 12,
   "metadata": {},
   "outputs": [],
   "source": [
    "# funcion que predice la clase a la que pertenece la observacion X, dada la distribucion P(Y)\n",
    "# los vectores de media de cada clase\n",
    "# y los vectores de desviacion estandar de cada clase\n",
    "def predict(x, py, means, stdvs):\n",
    "    n_classes = len(py)\n",
    "    # np.argmax toma un vector y devuelve la posicion i del valor maximo en el vector\n",
    "    # en este caso las clases coinciden con la posicion en el vector, es decir, la clase\n",
    "    # 0 se encuentra en la posicion 0 del vector\n",
    "    return np.argmax([np.log(py[k]) + log_gaussian(x, means[k], stdvs[k]) for k in range(n_classes)])"
   ]
  },
  {
   "cell_type": "code",
   "execution_count": 13,
   "metadata": {},
   "outputs": [],
   "source": [
    "means, stdvs = parameters(pixels_train, labels_train)"
   ]
  },
  {
   "cell_type": "markdown",
   "metadata": {},
   "source": [
    "### Realizamos predicciones con las observaciones en pixels_test"
   ]
  },
  {
   "cell_type": "code",
   "execution_count": 14,
   "metadata": {},
   "outputs": [],
   "source": [
    "predictions = [predict(i, py, means, stdvs) for i in pixels_test]"
   ]
  },
  {
   "cell_type": "markdown",
   "metadata": {},
   "source": [
    "### Calculamos la proporcion de aciertos comparando las clases estimadas con las clases reales en labels_test"
   ]
  },
  {
   "cell_type": "code",
   "execution_count": 15,
   "metadata": {},
   "outputs": [
    {
     "data": {
      "text/plain": [
       "0.9044047619047619"
      ]
     },
     "execution_count": 15,
     "metadata": {},
     "output_type": "execute_result"
    }
   ],
   "source": [
    "sum(predictions==labels_test)/len(labels_test)"
   ]
  },
  {
   "cell_type": "markdown",
   "metadata": {},
   "source": [
    "# Precision del 90%"
   ]
  },
  {
   "cell_type": "markdown",
   "metadata": {},
   "source": [
    "### Ahora a graficar algunas imagenes "
   ]
  },
  {
   "cell_type": "code",
   "execution_count": 17,
   "metadata": {},
   "outputs": [
    {
     "data": {
      "image/png": "[encoded data removed]",
      "text/plain": [
       "<Figure size 1080x1080 with 25 Axes>"
      ]
     },
     "metadata": {},
     "output_type": "display_data"
    }
   ],
   "source": [
    "fig, ax = plt.subplots(5, 5, figsize=(15,15))\n",
    "index = 0\n",
    "\n",
    "#imshow takes a matrix\n",
    "#each image have a shape of 28x28\n",
    "\n",
    "for i in range(5):\n",
    "    for j in range(5):\n",
    "        ax[i][j].set_xticks([])\n",
    "        ax[i][j].set_yticks([])\n",
    "        ax[i][j].grid(False)\n",
    "        ax[i][j].set_title('Pred: %s' % predictions[index])\n",
    "        ax[i][j].imshow(pixels_raw_test[index].reshape(28,28))\n",
    "        index += 1\n",
    "\n",
    "plt.show()"
   ]
  },
  {
   "cell_type": "code",
   "execution_count": null,
   "metadata": {},
   "outputs": [],
   "source": []
  }
 ],
 "metadata": {
  "kernelspec": {
   "display_name": "Python 3",
   "language": "python",
   "name": "python3"
  },
  "language_info": {
   "codemirror_mode": {
    "name": "ipython",
    "version": 3
   },
   "file_extension": ".py",
   "mimetype": "text/x-python",
   "name": "python",
   "nbconvert_exporter": "python",
   "pygments_lexer": "ipython3",
   "version": "3.7.6"
  }
 },
 "nbformat": 4,
 "nbformat_minor": 4
}
